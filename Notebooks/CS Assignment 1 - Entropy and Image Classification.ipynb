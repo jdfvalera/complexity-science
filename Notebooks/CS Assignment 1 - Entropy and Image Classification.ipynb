{
 "cells": [
  {
   "cell_type": "markdown",
   "id": "647f80a0-b6a7-4420-a6e2-a998d2fd2033",
   "metadata": {},
   "source": [
    "# Assignment 1\n",
    "Entropy can be used as a feature in most of our machine learning applications. For this assignment try to extract the entropy of an image to classify damage vs undamaged satellite images.\n",
    "\n",
    "Instructions:\n",
    "1. **Preprocess the images**: Convert each RGB satellite image to grayscale.\n",
    "2. **Apply the Shannon entropy formula** to compute the entropy of:\n",
    "   - The whole image **or**\n",
    "   - Multiple sliding windows across the image (for localized entropy estimation).\n",
    "3. **Experiment with different parameters**:\n",
    "   - Vary the **window size** (e.g., 8x8, 16x16, etc.)\n",
    "   - Try **thresholding** the grayscale values or binning intensity levels\n",
    "4. **Extract entropy-based features** (e.g., mean, variance, max entropy across windows).\n",
    "5. **Train a classifier** (e.g., logistic regression, SVM, random forest) to predict if the image is **damaged** or **undamaged** based solely on entropy-derived features.\n",
    "6. **Evaluate the model** using accuracy, precision, recall, and/or confusion matrix.\n",
    "\n",
    "Hint: You have two controllable dimensions in your feature extraction pipeline:\n",
    "- Window size - affects the granularity of entropy localization\n",
    "- Grayscale binning or thresholds - affects how patterns and noise are detected\n",
    "\n",
    "### Questions:\n",
    "\n",
    "1. Which entropy features (e.g., mean entropy, max entropy) were most useful for classification?\n",
    "2. How does changing the window size affect your classifier’s performance?\n",
    "3. Did thresholding or binning the grayscale values help or hurt entropy-based differentiation?\n",
    "4. Is there a noticeable difference in entropy distribution between damaged and undamaged images?\n",
    "6. How do you think can entropy-based classification compare to using raw pixel values or CNNs?"
   ]
  }
 ],
 "metadata": {
  "kernelspec": {
   "display_name": "Python [conda env:base] *",
   "language": "python",
   "name": "conda-base-py"
  },
  "language_info": {
   "codemirror_mode": {
    "name": "ipython",
    "version": 3
   },
   "file_extension": ".py",
   "mimetype": "text/x-python",
   "name": "python",
   "nbconvert_exporter": "python",
   "pygments_lexer": "ipython3",
   "version": "3.12.8"
  }
 },
 "nbformat": 4,
 "nbformat_minor": 5
}
